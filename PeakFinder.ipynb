{
 "cells": [
  {
   "cell_type": "code",
   "execution_count": 1,
   "metadata": {},
   "outputs": [
    {
     "name": "stdout",
     "output_type": "stream",
     "text": [
      "Populating the interactive namespace from numpy and matplotlib\n"
     ]
    }
   ],
   "source": [
    "%pylab inline"
   ]
  },
  {
   "cell_type": "code",
   "execution_count": 2,
   "metadata": {
    "collapsed": true
   },
   "outputs": [],
   "source": [
    "import subprocess"
   ]
  },
  {
   "cell_type": "code",
   "execution_count": 8,
   "metadata": {
    "collapsed": true
   },
   "outputs": [],
   "source": [
    "def curve_calc(x):\n",
    "    curve_point=0.296195475*sin(0.110063173*x+0.907566)+0.052306518*sin(0.220128134*x+0.824689)+4.61711602\n",
    "    return(curve_point)"
   ]
  },
  {
   "cell_type": "markdown",
   "metadata": {},
   "source": [
    "A program kiválasztja a fénygörbékből azokat a csúcsokat, melyek környezetében megfelelő mennyiségű pont található megfelelő eloszlásban. Ezeket aztán megilleszti és kimenti az adatokat."
   ]
  },
  {
   "cell_type": "code",
   "execution_count": 3,
   "metadata": {
    "collapsed": true
   },
   "outputs": [],
   "source": [
    "from scipy.optimize import curve_fit\n",
    "from scipy.optimize import minimize_scalar\n",
    "from numpy import loadtxt\n",
    "from numpy import append\n",
    "import codecs\n",
    "import os"
   ]
  },
  {
   "cell_type": "markdown",
   "metadata": {},
   "source": [
    "# ASAS adatok feldolgozása"
   ]
  },
  {
   "cell_type": "code",
   "execution_count": 82,
   "metadata": {
    "collapsed": true
   },
   "outputs": [],
   "source": [
    "#lowlim=2411378.1\n",
    "uplim=2455193.979\n",
    "maxepochx=2451935.711\n",
    "deltat=3\n",
    "period=1/0.110099374"
   ]
  },
  {
   "cell_type": "code",
   "execution_count": 77,
   "metadata": {
    "collapsed": true
   },
   "outputs": [],
   "source": [
    "data=numpy.loadtxt('./Period/Kap_Pav/feldolg_asas_asc.dat')"
   ]
  },
  {
   "cell_type": "code",
   "execution_count": 78,
   "metadata": {},
   "outputs": [
    {
     "data": {
      "text/plain": [
       "(718, 2)"
      ]
     },
     "execution_count": 78,
     "metadata": {},
     "output_type": "execute_result"
    }
   ],
   "source": [
    "data.shape"
   ]
  },
  {
   "cell_type": "code",
   "execution_count": 85,
   "metadata": {
    "collapsed": true
   },
   "outputs": [],
   "source": [
    "program = './Period/OCPeak.exe'\n",
    "n=numpy.zeros((6))\n",
    "q=1\n",
    "i=0\n",
    "maxepoch=maxepochx\n",
    "while(i<data.shape[0]):\n",
    "    if(maxepoch-3<data[i,0] and data[i,0]<maxepoch-2):\n",
    "        n[0]+=1\n",
    "        i+=1\n",
    "    if(maxepoch-2<data[i,0] and data[i,0]<maxepoch-1):\n",
    "        n[1]+=1\n",
    "        i+=1\n",
    "    if(maxepoch-1<data[i,0] and data[i,0]<maxepoch-0):\n",
    "        n[2]+=1\n",
    "        i+=1\n",
    "    if(maxepoch-0<data[i,0] and data[i,0]<maxepoch+1):\n",
    "        n[3]+=1\n",
    "        i+=1\n",
    "    if(maxepoch+1<data[i,0] and data[i,0]<maxepoch+2):\n",
    "        n[4]+=1\n",
    "        i+=1\n",
    "    if(maxepoch+2<data[i,0] and data[i,0]<maxepoch+3):\n",
    "        n[5]+=1\n",
    "        i+=1\n",
    "    else:\n",
    "        r=0\n",
    "        for j in range (0,6):\n",
    "            if(n[j]>0):\n",
    "                r+=1\n",
    "        if(r>4):\n",
    "            num=str(q)+'.dat '+str(maxepoch)\n",
    "            argument = ['./Period/Kap_Pav/feldolg_asas_asc.dat ./Period/Kap_Pav/ASAS/' +num]\n",
    "            subprocess.Popen([program, argument])\n",
    "            maxepoch+=period\n",
    "            n=numpy.zeros((6))\n",
    "            q+=1\n",
    "        if(i+1<data.shape[0]):\n",
    "            if(data[i+1,0]>maxepoch+3):\n",
    "                maxepoch+=period\n",
    "                n=numpy.zeros((6))\n",
    "        i+=1"
   ]
  },
  {
   "cell_type": "code",
   "execution_count": 88,
   "metadata": {
    "collapsed": true
   },
   "outputs": [],
   "source": [
    "indir = './Period/Kap_Pav/ASAS'\n",
    "peaks={}\n",
    "for root, dirs, filenames in os.walk(indir):\n",
    "    i=0\n",
    "    for f in filenames:\n",
    "        filecp = codecs.open(os.path.join(root, f), encoding = 'cp1252')\n",
    "        content = loadtxt(filecp, comments=\"#\", delimiter=\"\\t\", unpack=False)\n",
    "        array=content[:,[0, 1]]\n",
    "        peaks[i]=array\n",
    "        i+=1\n",
    "        del content\n",
    "        del array"
   ]
  },
  {
   "cell_type": "code",
   "execution_count": 89,
   "metadata": {
    "collapsed": true
   },
   "outputs": [],
   "source": [
    "for j in range (0,i):\n",
    "    data=peaks[j]\n",
    "    \n",
    "    mi=min(data[:,0])\n",
    "    ma=max(data[:,0])\n",
    "    corr=mi\n",
    "    epsle=0.05\n",
    "    epsfel=(ma-mi)/20-0.05\n",
    "\n",
    "    mg=data[:,1]\n",
    "    t=(data[:,0]-corr)/20\n",
    "    z=numpy.polyfit(t,mg,5)\n",
    "    p5r=numpy.poly1d(z)\n",
    "\n",
    "    minb=0.2\n",
    "    maxb=1.0\n",
    "    result = minimize_scalar(p5r, bounds=(minb, maxb), method='bounded')\n",
    "    result\n",
    "\n",
    "    mt=result.x\n",
    "    mm=p5r(result.x)\n",
    "\n",
    "    tn=numpy.append(t,mt)\n",
    "    mgn=numpy.append(mg,mm)\n",
    "\n",
    "    zn=numpy.polyfit(tn,mgn,5)\n",
    "    p5rn=numpy.poly1d(zn)\n",
    "\n",
    "    resultn=minimize_scalar(p5rn, bounds=(minb, maxb), method='bounded')\n",
    "    resultn\n",
    "\n",
    "    line=[20*resultn.x+corr,resultn.fun]\n",
    "\n",
    "    with open('./Period/Kap_Pav/peaks_kappav_asas_new.dat', 'a') as filee:\n",
    "        for item in line:\n",
    "            filee.write(\"%f \" % item)\n",
    "        filee.write(\"\\n\")\n",
    "    filee.close()"
   ]
  },
  {
   "cell_type": "markdown",
   "metadata": {},
   "source": [
    "# SMEI adatok feldolgozása"
   ]
  },
  {
   "cell_type": "code",
   "execution_count": 95,
   "metadata": {
    "collapsed": true
   },
   "outputs": [],
   "source": [
    "uplim=2455193.979\n",
    "maxepochx=2453779.512\n",
    "deltat=3\n",
    "period=1/0.110207686\n",
    "\n",
    "data=numpy.loadtxt('./Period/Kap_Pav/feldolg_kap_pav_smeihib_asc.dat')\n",
    "\n",
    "n=numpy.zeros((6))\n",
    "q=1\n",
    "i=0\n",
    "maxepoch=maxepochx\n",
    "while(i<data.shape[0]):\n",
    "    if(maxepoch-3<data[i,0] and data[i,0]<maxepoch-2):\n",
    "        n[0]+=1\n",
    "        i+=1\n",
    "    if(maxepoch-2<data[i,0] and data[i,0]<maxepoch-1):\n",
    "        n[1]+=1\n",
    "        i+=1\n",
    "    if(maxepoch-1<data[i,0] and data[i,0]<maxepoch-0):\n",
    "        n[2]+=1\n",
    "        i+=1\n",
    "    if(maxepoch-0<data[i,0] and data[i,0]<maxepoch+1):\n",
    "        n[3]+=1\n",
    "        i+=1\n",
    "    if(maxepoch+1<data[i,0] and data[i,0]<maxepoch+2):\n",
    "        n[4]+=1\n",
    "        i+=1\n",
    "    if(maxepoch+2<data[i,0] and data[i,0]<maxepoch+3):\n",
    "        n[5]+=1\n",
    "        i+=1\n",
    "    else:\n",
    "        r=0\n",
    "        for j in range (0,6):\n",
    "            if(n[j]>0):\n",
    "                r+=1\n",
    "        if(r>4):\n",
    "            num=str(q)+'.dat '+str(maxepoch)\n",
    "            argument = ['./Period/Kap_Pav/feldolg_kap_pav_smeihib_asc.dat ./Period/Kap_Pav/SMEIHIB/' +num]\n",
    "            subprocess.Popen([program, argument])\n",
    "            maxepoch+=period\n",
    "            n=numpy.zeros((6))\n",
    "            q+=1\n",
    "        if(i+1<data.shape[0]):\n",
    "            if(data[i+1,0]>maxepoch+3):\n",
    "                maxepoch+=period\n",
    "                n=numpy.zeros((6))\n",
    "        i+=1"
   ]
  },
  {
   "cell_type": "code",
   "execution_count": 4,
   "metadata": {
    "collapsed": true
   },
   "outputs": [],
   "source": [
    "indir = './Period/Kap_Pav/SMEIHIB'\n",
    "peaks={}\n",
    "for root, dirs, filenames in os.walk(indir):\n",
    "    i=0\n",
    "    for f in filenames:\n",
    "        filecp = codecs.open(os.path.join(root, f), encoding = 'cp1252')\n",
    "        content = loadtxt(filecp, comments=\"#\", delimiter=\"\\t\", unpack=False)\n",
    "        array=content[:,[0, 1]]\n",
    "        peaks[i]=array\n",
    "        i+=1\n",
    "        del content\n",
    "        del array"
   ]
  },
  {
   "cell_type": "code",
   "execution_count": 5,
   "metadata": {
    "collapsed": true
   },
   "outputs": [],
   "source": [
    "for j in range (0,i):\n",
    "    data=peaks[j]\n",
    "    \n",
    "    mi=min(data[:,0])\n",
    "    ma=max(data[:,0])\n",
    "    corr=mi\n",
    "    epsle=0.05\n",
    "    epsfel=(ma-mi)/20-0.05\n",
    "\n",
    "    mg=data[:,1]\n",
    "    t=(data[:,0]-corr)/20\n",
    "    z=numpy.polyfit(t,mg,5)\n",
    "    p5r=numpy.poly1d(z)\n",
    "\n",
    "    minb=0.2\n",
    "    maxb=1.0\n",
    "    result = minimize_scalar(p5r, bounds=(minb, maxb), method='bounded')\n",
    "    result\n",
    "\n",
    "    mt=result.x\n",
    "    mm=p5r(result.x)\n",
    "\n",
    "    tn=numpy.append(t,mt)\n",
    "    mgn=numpy.append(mg,mm)\n",
    "\n",
    "    zn=numpy.polyfit(tn,mgn,5)\n",
    "    p5rn=numpy.poly1d(zn)\n",
    "\n",
    "    resultn=minimize_scalar(p5rn, bounds=(minb, maxb), method='bounded')\n",
    "    resultn\n",
    "\n",
    "    line=[20*resultn.x+corr,resultn.fun]\n",
    "\n",
    "    with open('./Period/Kap_Pav/peaks_kappav_smeihib_new.dat', 'a') as filee:\n",
    "        for item in line:\n",
    "            filee.write(\"%f \" % item)\n",
    "        filee.write(\"\\n\")\n",
    "    filee.close()"
   ]
  },
  {
   "cell_type": "markdown",
   "metadata": {},
   "source": [
    "# AAVSO adatok feldolgozása "
   ]
  },
  {
   "cell_type": "code",
   "execution_count": null,
   "metadata": {
    "collapsed": true
   },
   "outputs": [],
   "source": [
    "uplim=2455193.979\n",
    "maxepochx=2451935.711\n",
    "deltat=3\n",
    "period=1/0.110099374\n",
    "\n",
    "data=numpy.loadtxt('./Period/Kap_Pav/feldolg_aavso_asc.dat')\n",
    "\n",
    "n=numpy.zeros((6))\n",
    "q=1\n",
    "i=0\n",
    "maxepoch=maxepochx\n",
    "while(i<data.shape[0]):\n",
    "    if(maxepoch-3<data[i,0] and data[i,0]<maxepoch-2):\n",
    "        n[0]+=1\n",
    "        i+=1\n",
    "    if(maxepoch-2<data[i,0] and data[i,0]<maxepoch-1):\n",
    "        n[1]+=1\n",
    "        i+=1\n",
    "    if(maxepoch-1<data[i,0] and data[i,0]<maxepoch-0):\n",
    "        n[2]+=1\n",
    "        i+=1\n",
    "    if(maxepoch-0<data[i,0] and data[i,0]<maxepoch+1):\n",
    "        n[3]+=1\n",
    "        i+=1\n",
    "    if(maxepoch+1<data[i,0] and data[i,0]<maxepoch+2):\n",
    "        n[4]+=1\n",
    "        i+=1\n",
    "    if(maxepoch+2<data[i,0] and data[i,0]<maxepoch+3):\n",
    "        n[5]+=1\n",
    "        i+=1\n",
    "    else:\n",
    "        r=0\n",
    "        for j in range (0,6):\n",
    "            if(n[j]>0):\n",
    "                r+=1\n",
    "        if(r>4):\n",
    "            num=str(q)+'.dat '+str(maxepoch)\n",
    "            argument = ['./Period/Kap_Pav/feldolg_aavso_asc.dat ./Period/Kap_Pav/AAVSO/' +num]\n",
    "            subprocess.Popen([program, argument])\n",
    "            maxepoch+=period\n",
    "            n=numpy.zeros((6))\n",
    "            q+=1\n",
    "        if(i+1<data.shape[0]):\n",
    "            if(data[i+1,0]>maxepoch+3):\n",
    "                maxepoch+=period\n",
    "                n=numpy.zeros((6))\n",
    "        i+=1"
   ]
  },
  {
   "cell_type": "code",
   "execution_count": 92,
   "metadata": {
    "collapsed": true
   },
   "outputs": [],
   "source": [
    "indir = './Period/Kap_Pav/AAVSO'\n",
    "peaks={}\n",
    "for root, dirs, filenames in os.walk(indir):\n",
    "    i=0\n",
    "    for f in filenames:\n",
    "        filecp = codecs.open(os.path.join(root, f), encoding = 'cp1252')\n",
    "        content = loadtxt(filecp, comments=\"#\", delimiter=\"\\t\", unpack=False)\n",
    "        array=content[:,[0, 1]]\n",
    "        peaks[i]=array\n",
    "        i+=1\n",
    "        del content\n",
    "        del array"
   ]
  },
  {
   "cell_type": "code",
   "execution_count": 93,
   "metadata": {},
   "outputs": [
    {
     "name": "stderr",
     "output_type": "stream",
     "text": [
      "D:\\Program Files\\WinPyth\\WinPython-64bit-3.5.3.1Qt5\\python-3.5.3.amd64\\lib\\site-packages\\numpy\\lib\\polynomial.py:595: RankWarning: Polyfit may be poorly conditioned\n",
      "  warnings.warn(msg, RankWarning)\n",
      "D:\\Program Files\\WinPyth\\WinPython-64bit-3.5.3.1Qt5\\python-3.5.3.amd64\\lib\\site-packages\\numpy\\lib\\polynomial.py:595: RankWarning: Polyfit may be poorly conditioned\n",
      "  warnings.warn(msg, RankWarning)\n",
      "D:\\Program Files\\WinPyth\\WinPython-64bit-3.5.3.1Qt5\\python-3.5.3.amd64\\lib\\site-packages\\numpy\\lib\\polynomial.py:595: RankWarning: Polyfit may be poorly conditioned\n",
      "  warnings.warn(msg, RankWarning)\n",
      "D:\\Program Files\\WinPyth\\WinPython-64bit-3.5.3.1Qt5\\python-3.5.3.amd64\\lib\\site-packages\\numpy\\lib\\polynomial.py:595: RankWarning: Polyfit may be poorly conditioned\n",
      "  warnings.warn(msg, RankWarning)\n",
      "D:\\Program Files\\WinPyth\\WinPython-64bit-3.5.3.1Qt5\\python-3.5.3.amd64\\lib\\site-packages\\numpy\\lib\\polynomial.py:595: RankWarning: Polyfit may be poorly conditioned\n",
      "  warnings.warn(msg, RankWarning)\n",
      "D:\\Program Files\\WinPyth\\WinPython-64bit-3.5.3.1Qt5\\python-3.5.3.amd64\\lib\\site-packages\\numpy\\lib\\polynomial.py:595: RankWarning: Polyfit may be poorly conditioned\n",
      "  warnings.warn(msg, RankWarning)\n",
      "D:\\Program Files\\WinPyth\\WinPython-64bit-3.5.3.1Qt5\\python-3.5.3.amd64\\lib\\site-packages\\numpy\\lib\\polynomial.py:595: RankWarning: Polyfit may be poorly conditioned\n",
      "  warnings.warn(msg, RankWarning)\n",
      "D:\\Program Files\\WinPyth\\WinPython-64bit-3.5.3.1Qt5\\python-3.5.3.amd64\\lib\\site-packages\\numpy\\lib\\polynomial.py:595: RankWarning: Polyfit may be poorly conditioned\n",
      "  warnings.warn(msg, RankWarning)\n",
      "D:\\Program Files\\WinPyth\\WinPython-64bit-3.5.3.1Qt5\\python-3.5.3.amd64\\lib\\site-packages\\numpy\\lib\\polynomial.py:595: RankWarning: Polyfit may be poorly conditioned\n",
      "  warnings.warn(msg, RankWarning)\n",
      "D:\\Program Files\\WinPyth\\WinPython-64bit-3.5.3.1Qt5\\python-3.5.3.amd64\\lib\\site-packages\\numpy\\lib\\polynomial.py:595: RankWarning: Polyfit may be poorly conditioned\n",
      "  warnings.warn(msg, RankWarning)\n",
      "D:\\Program Files\\WinPyth\\WinPython-64bit-3.5.3.1Qt5\\python-3.5.3.amd64\\lib\\site-packages\\numpy\\lib\\polynomial.py:595: RankWarning: Polyfit may be poorly conditioned\n",
      "  warnings.warn(msg, RankWarning)\n",
      "D:\\Program Files\\WinPyth\\WinPython-64bit-3.5.3.1Qt5\\python-3.5.3.amd64\\lib\\site-packages\\numpy\\lib\\polynomial.py:595: RankWarning: Polyfit may be poorly conditioned\n",
      "  warnings.warn(msg, RankWarning)\n"
     ]
    }
   ],
   "source": [
    "for j in range (0,i):\n",
    "    data=peaks[j]\n",
    "    \n",
    "    mi=min(data[:,0])\n",
    "    ma=max(data[:,0])\n",
    "    corr=mi\n",
    "    epsle=0.05\n",
    "    epsfel=(ma-mi)/20-0.05\n",
    "\n",
    "    mg=data[:,1]\n",
    "    t=(data[:,0]-corr)/20\n",
    "    z=numpy.polyfit(t,mg,5)\n",
    "    p5r=numpy.poly1d(z)\n",
    "\n",
    "    minb=0.2\n",
    "    maxb=1.0\n",
    "    result = minimize_scalar(p5r, bounds=(minb, maxb), method='bounded')\n",
    "    result\n",
    "\n",
    "    mt=result.x\n",
    "    mm=p5r(result.x)\n",
    "\n",
    "    tn=numpy.append(t,mt)\n",
    "    mgn=numpy.append(mg,mm)\n",
    "\n",
    "    zn=numpy.polyfit(tn,mgn,5)\n",
    "    p5rn=numpy.poly1d(zn)\n",
    "\n",
    "    resultn=minimize_scalar(p5rn, bounds=(minb, maxb), method='bounded')\n",
    "    resultn\n",
    "\n",
    "    line=[20*resultn.x+corr,resultn.fun]\n",
    "\n",
    "    with open('./Period/Kap_Pav/peaks_kappav_aavso_new.dat', 'a') as filee:\n",
    "        for item in line:\n",
    "            filee.write(\"%f \" % item)\n",
    "        filee.write(\"\\n\")\n",
    "    filee.close()"
   ]
  },
  {
   "cell_type": "markdown",
   "metadata": {},
   "source": [
    "# Plottolás és illesztés"
   ]
  },
  {
   "cell_type": "markdown",
   "metadata": {},
   "source": [
    "Először lefuttatom az OC programomat az egy peak fájlokra, majd ábrázolgatom őket, illetve illesztek rájuk"
   ]
  },
  {
   "cell_type": "code",
   "execution_count": 29,
   "metadata": {},
   "outputs": [
    {
     "data": {
      "text/plain": [
       "<subprocess.Popen at 0x292653cd5c0>"
      ]
     },
     "execution_count": 29,
     "metadata": {},
     "output_type": "execute_result"
    }
   ],
   "source": [
    "program = './Period/OCCalc.exe'\n",
    "argument = ['./Period/Kap_Pav/peaks_kappav_smei_new.dat 2452680.670682 0.110063173 2452645.0 2455881.35 193 1.5 ./Period/Kap_Pav/OC_kappav_smei.dat']\n",
    "subprocess.Popen([program, argument])\n",
    "argument = ['./Period/Kap_Pav/peaks_kappav_smeihib_new.dat 2452680.670682 0.110063173 2452645.0 2455881.35 19 1.5 ./Period/Kap_Pav/OC_kappav_smeihib.dat']\n",
    "subprocess.Popen([program, argument])\n",
    "argument = ['./Period/Kap_Pav/peaks_kappav_asas.dat 2452680.670682 0.110063173 2452053.0 2452571.6 3 1.5 ./Period/Kap_Pav/OC_kappav_asas.dat']\n",
    "subprocess.Popen([program, argument])\n",
    "argument = ['./Period/Kap_Pav/peaks_kappav_aavso_new.dat 2452680.670682 0.110063173 2411591.0 2440601.6 74 1.5 ./Period/Kap_Pav/OC_kappav_aavso.dat']\n",
    "subprocess.Popen([program, argument])\n",
    "argument = ['./Period/Kap_Pav/peaks_kappav_hipp.dat 2452680.670682 0.110063173 2447911.0 2449065.6 6  1.5 ./Period/Kap_Pav/OC_kappav_hipp.dat']\n",
    "subprocess.Popen([program, argument])"
   ]
  },
  {
   "cell_type": "code",
   "execution_count": 3,
   "metadata": {
    "collapsed": true
   },
   "outputs": [],
   "source": [
    "aavso=loadtxt('./Period/Kap_Pav/OC_kappav_aavso.dat')\n",
    "asas=loadtxt('./Period/Kap_Pav/OC_kappav_asas.dat')\n",
    "smei=loadtxt('./Period/Kap_Pav/OC_kappav_smei.dat')\n",
    "smeihib=loadtxt('./Period/Kap_Pav/OC_kappav_smeihib.dat')\n",
    "hipp=loadtxt('./Period/Kap_Pav/OC_kappav_hipp.dat')"
   ]
  },
  {
   "cell_type": "code",
   "execution_count": 12,
   "metadata": {},
   "outputs": [
    {
     "data": {
      "image/png": "[encoded data removed]",
      "text/plain": [
       "<matplotlib.figure.Figure at 0x1eb63116438>"
      ]
     },
     "metadata": {},
     "output_type": "display_data"
    }
   ],
   "source": [
    "figsize(12,8)\n",
    "plot(smei[:,1],smei[:,2],'bo',ms=2)\n",
    "plot(smeihib[:,1],smeihib[:,2],'bo',ms=2)\n",
    "ylim(0,2)\n",
    "grid(True)\n",
    "xlabel('Epoch',fontsize=15)\n",
    "ylabel('O-C [days]',fontsize=15)\n",
    "title('Kappa Pav SMEI O-C diagram',fontsize=20)\n",
    "savefig('./Period/Kap_Pav/Kap_Pav_O-C_SMEI.png', bbox_inches='tight')"
   ]
  },
  {
   "cell_type": "code",
   "execution_count": 120,
   "metadata": {},
   "outputs": [
    {
     "data": {
      "image/png": "[encoded data removed]",
      "text/plain": [
       "<matplotlib.figure.Figure at 0x29268ae1828>"
      ]
     },
     "metadata": {},
     "output_type": "display_data"
    }
   ],
   "source": [
    "figsize(12,8)\n",
    "plot(aavso[:,1],aavso[:,2],'o',color='grey',ms=1.5,label='AAVSO')\n",
    "plot(smei[:,1],smei[:,2],'ro',ms=1.5,label='SMEI')\n",
    "plot(asas[:,1],asas[:,2],'go',ms=1.5,label='ASAS')\n",
    "plot(smeihib[:,1],smeihib[:,2],'ro',ms=1.5)\n",
    "plot(hipp[:,1],hipp[:,2],'bo',ms=1.5,label='Hipparcos')\n",
    "#plot(tt,polyval(z,tt),color='salmon',label='Fitted parabole')\n",
    "#plot(tt,polyval(z1,tt),color='lightblue',label='No AAVSO fitted parabole')\n",
    "grid(True)\n",
    "plt.legend()\n",
    "xlabel('Epoch')\n",
    "ylabel('O-C [days]')\n",
    "ylim(-3,4)\n",
    "#xlim(-5000,700)\n",
    "savefig('./Period/Kap_Pav/Kap_Pav_O-C_eredeti.png', bbox_inches='tight')"
   ]
  },
  {
   "cell_type": "code",
   "execution_count": 97,
   "metadata": {},
   "outputs": [
    {
     "name": "stdout",
     "output_type": "stream",
     "text": [
      "239\n"
     ]
    }
   ],
   "source": [
    "ydim=numpy.empty((5))\n",
    "ydim[0]=int(aavso.shape[0])\n",
    "ydim[1]=int(smei.shape[0])\n",
    "ydim[2]=int(smeihib.shape[0])\n",
    "ydim[3]=int(asas.shape[0])\n",
    "ydim[4]=int(hipp.shape[0])\n",
    "measp=int(sum(ydim))\n",
    "print(measp)"
   ]
  },
  {
   "cell_type": "code",
   "execution_count": 98,
   "metadata": {},
   "outputs": [
    {
     "name": "stderr",
     "output_type": "stream",
     "text": [
      "D:\\Program Files\\WinPyth\\WinPython-64bit-3.5.3.1Qt5\\python-3.5.3.amd64\\lib\\site-packages\\ipykernel\\__main__.py:2: VisibleDeprecationWarning: using a non-integer number instead of an integer will result in an error in the future\n",
      "  from ipykernel import kernelapp as app\n",
      "D:\\Program Files\\WinPyth\\WinPython-64bit-3.5.3.1Qt5\\python-3.5.3.amd64\\lib\\site-packages\\ipykernel\\__main__.py:3: VisibleDeprecationWarning: using a non-integer number instead of an integer will result in an error in the future\n",
      "  app.launch_new_instance()\n",
      "D:\\Program Files\\WinPyth\\WinPython-64bit-3.5.3.1Qt5\\python-3.5.3.amd64\\lib\\site-packages\\ipykernel\\__main__.py:4: VisibleDeprecationWarning: using a non-integer number instead of an integer will result in an error in the future\n",
      "D:\\Program Files\\WinPyth\\WinPython-64bit-3.5.3.1Qt5\\python-3.5.3.amd64\\lib\\site-packages\\ipykernel\\__main__.py:5: VisibleDeprecationWarning: using a non-integer number instead of an integer will result in an error in the future\n",
      "D:\\Program Files\\WinPyth\\WinPython-64bit-3.5.3.1Qt5\\python-3.5.3.amd64\\lib\\site-packages\\ipykernel\\__main__.py:6: VisibleDeprecationWarning: using a non-integer number instead of an integer will result in an error in the future\n"
     ]
    }
   ],
   "source": [
    "data=numpy.empty((measp,3))\n",
    "data[0:ydim[0],:]=aavso[:,:]\n",
    "data[ydim[0]:ydim[0]+ydim[1],:]=smei[:,:]\n",
    "data[ydim[0]+ydim[1]:ydim[0]+ydim[1]+ydim[2],:]=smeihib[:,:]\n",
    "data[ydim[0]+ydim[1]+ydim[2]:ydim[0]+ydim[1]+ydim[2]+ydim[3],:]=asas[:,:]\n",
    "data[ydim[0]+ydim[1]+ydim[2]+ydim[3]:ydim[0]+ydim[1]+ydim[2]+ydim[3]+ydim[4],:]=hipp[:,:]"
   ]
  },
  {
   "cell_type": "code",
   "execution_count": 54,
   "metadata": {},
   "outputs": [
    {
     "data": {
      "image/png": "[encoded data removed]",
      "text/plain": [
       "<matplotlib.figure.Figure at 0x29264c335c0>"
      ]
     },
     "metadata": {},
     "output_type": "display_data"
    }
   ],
   "source": [
    "plot(data[:,1],data[:,2],'o')\n",
    "ylim(-3,4)\n",
    "grid(True)"
   ]
  },
  {
   "cell_type": "code",
   "execution_count": 55,
   "metadata": {
    "collapsed": true
   },
   "outputs": [],
   "source": [
    "with open ('./Period/Kap_Pav/OC_kappav_teljes.dat', 'a') as filee:\n",
    "    for i in range (0,measp):\n",
    "        for item in data[i,:]:\n",
    "            filee.write(\"%f \\t\" % item)\n",
    "        filee.write(\"\\n\")\n",
    "    filee.close"
   ]
  },
  {
   "cell_type": "code",
   "execution_count": 48,
   "metadata": {},
   "outputs": [
    {
     "name": "stdout",
     "output_type": "stream",
     "text": [
      "[  1.47310191e-07   8.82645736e-04   8.40363387e-01]\n"
     ]
    }
   ],
   "source": [
    "z=polyfit(data[:,1],data[:,2],2)\n",
    "tt=linspace(-5000,600,20000)\n",
    "print(z)"
   ]
  },
  {
   "cell_type": "code",
   "execution_count": 121,
   "metadata": {},
   "outputs": [
    {
     "data": {
      "image/png": "[encoded data removed]",
      "text/plain": [
       "<matplotlib.figure.Figure at 0x29267524d30>"
      ]
     },
     "metadata": {},
     "output_type": "display_data"
    }
   ],
   "source": [
    "figsize(12,8)\n",
    "plot(aavso[:,1],aavso[:,2],'o',color='grey',ms=1.5,label='AAVSO')\n",
    "plot(smei[:,1],smei[:,2],'ro',ms=1.5,label='SMEI')\n",
    "plot(asas[:,1],asas[:,2],'go',ms=1.5,label='ASAS')\n",
    "plot(smeihib[:,1],smeihib[:,2],'ro',ms=1.5)\n",
    "plot(hipp[:,1],hipp[:,2],'bo',ms=1.5,label='Hipparcos')\n",
    "plot(tt,polyval(z,tt),color='salmon',label='Fitted parabole')\n",
    "#plot(tt,polyval(z1,tt),color='lightblue',label='No AAVSO fitted parabole')\n",
    "grid(True)\n",
    "plt.legend(loc=2)\n",
    "xlabel('Epoch')\n",
    "ylabel('O-C [days]')\n",
    "ylim(-3,4)\n",
    "xlim(-5000,600)\n",
    "plt.text(-3700, 2.75, '$p_{\\mathrm{fitted}}(x)=1.473\\cdot 10^{-7} x^2 + 8.826\\cdot 10^{-4} x + 0.840$',\n",
    "        #verticalalignment='bottom', horizontalalignment='right',\n",
    "        color='black', fontsize=12)\n",
    "#xlim(-5000,700)\n",
    "savefig('./Period/Kap_Pav/Kap_Pav_O-C_illesztett.png', bbox_inches='tight')"
   ]
  },
  {
   "cell_type": "markdown",
   "metadata": {},
   "source": [
    "Innentől kezdve csak az egyes adatsorokat átlagolom bizonyos időskálákon"
   ]
  },
  {
   "cell_type": "code",
   "execution_count": 58,
   "metadata": {},
   "outputs": [
    {
     "name": "stderr",
     "output_type": "stream",
     "text": [
      "D:\\Program Files\\WinPyth\\WinPython-64bit-3.5.3.1Qt5\\python-3.5.3.amd64\\lib\\site-packages\\ipykernel\\__main__.py:1: VisibleDeprecationWarning: using a non-integer number instead of an integer will result in an error in the future\n",
      "  if __name__ == '__main__':\n",
      "D:\\Program Files\\WinPyth\\WinPython-64bit-3.5.3.1Qt5\\python-3.5.3.amd64\\lib\\site-packages\\ipykernel\\__main__.py:2: VisibleDeprecationWarning: using a non-integer number instead of an integer will result in an error in the future\n",
      "  from ipykernel import kernelapp as app\n",
      "D:\\Program Files\\WinPyth\\WinPython-64bit-3.5.3.1Qt5\\python-3.5.3.amd64\\lib\\site-packages\\ipykernel\\__main__.py:3: VisibleDeprecationWarning: using a non-integer number instead of an integer will result in an error in the future\n",
      "  app.launch_new_instance()\n"
     ]
    }
   ],
   "source": [
    "smeidat=numpy.empty((ydim[1]+ydim[2],3))\n",
    "smeidat[0:ydim[1],:]=smei[:,:]\n",
    "smeidat[ydim[1]:ydim[2]+ydim[1],:]=smeihib[:,:]"
   ]
  },
  {
   "cell_type": "code",
   "execution_count": 103,
   "metadata": {
    "collapsed": true
   },
   "outputs": [],
   "source": [
    "atlagido=numpy.empty(1)\n",
    "atlagfen=numpy.empty(1)\n",
    "atlagjd=numpy.empty(1)\n",
    "stepr=40\n",
    "eps=min(smeidat[:,1])-0.1\n",
    "gr=0\n",
    "while(eps<max(smeidat[:,1]+stepr)):\n",
    "    jds=0\n",
    "    epochs=0\n",
    "    vals=0\n",
    "    nums=0\n",
    "    for i in range (0,int(ydim[1]+ydim[2])):\n",
    "        if(eps+stepr>smeidat[i,1] and smeidat[i,1]>eps):\n",
    "            jds+=smeidat[i,0]\n",
    "            epochs+=smeidat[i,1]\n",
    "            vals+=smeidat[i,2]\n",
    "            nums+=1\n",
    "    if(nums!=0 and gr==1):\n",
    "        atj=jds/nums\n",
    "        atli=epochs/nums\n",
    "        atlf=vals/nums\n",
    "        atlagjd=append(atlagjd,atj)\n",
    "        atlagido=append(atlagido,atli)\n",
    "        atlagfen=append(atlagfen,atlf)\n",
    "    if(nums!=0 and gr==0):\n",
    "        atlagjd=jds/nums\n",
    "        atlagido=epochs/nums\n",
    "        atlagfen=vals/nums\n",
    "        gr=1\n",
    "    eps+=stepr"
   ]
  },
  {
   "cell_type": "code",
   "execution_count": 104,
   "metadata": {},
   "outputs": [
    {
     "name": "stdout",
     "output_type": "stream",
     "text": [
      "[[  2.45281781e+06   1.50000000e+01   8.55890421e-01]\n",
      " [  2.45320697e+06   5.78148148e+01   1.00793493e+00]\n",
      " [  2.45356384e+06   9.70869565e+01   1.07117096e+00]\n",
      " [  2.45394210e+06   1.38727273e+02   9.92185727e-01]\n",
      " [  2.45430123e+06   1.78250000e+02   1.03369835e+00]\n",
      " [  2.45466429e+06   2.18214286e+02   9.87746429e-01]\n",
      " [  2.45502808e+06   2.58250000e+02   1.03353167e+00]\n",
      " [  2.45538585e+06   2.97625000e+02   1.04867504e+00]\n",
      " [  2.45572193e+06   3.34615385e+02   1.04729885e+00]]\n"
     ]
    }
   ],
   "source": [
    "atlagolt=vstack((atlagido,atlagfen))\n",
    "atlagolt=vstack((atlagjd,atlagolt)).T\n",
    "print(atlagolt)"
   ]
  },
  {
   "cell_type": "code",
   "execution_count": 94,
   "metadata": {},
   "outputs": [
    {
     "name": "stdout",
     "output_type": "stream",
     "text": [
      "48\n"
     ]
    }
   ],
   "source": [
    "y1dim=numpy.empty((4))\n",
    "y1dim[0]=int(aavso.shape[0])\n",
    "y1dim[1]=int(atlagolt.shape[0])\n",
    "y1dim[2]=int(hipp.shape[0])\n",
    "y1dim[3]=int(asas.shape[0])\n",
    "measp=int(sum(y1dim))\n",
    "print(measp)"
   ]
  },
  {
   "cell_type": "code",
   "execution_count": 95,
   "metadata": {},
   "outputs": [
    {
     "name": "stderr",
     "output_type": "stream",
     "text": [
      "D:\\Program Files\\WinPyth\\WinPython-64bit-3.5.3.1Qt5\\python-3.5.3.amd64\\lib\\site-packages\\ipykernel\\__main__.py:2: VisibleDeprecationWarning: using a non-integer number instead of an integer will result in an error in the future\n",
      "  from ipykernel import kernelapp as app\n",
      "D:\\Program Files\\WinPyth\\WinPython-64bit-3.5.3.1Qt5\\python-3.5.3.amd64\\lib\\site-packages\\ipykernel\\__main__.py:3: VisibleDeprecationWarning: using a non-integer number instead of an integer will result in an error in the future\n",
      "  app.launch_new_instance()\n",
      "D:\\Program Files\\WinPyth\\WinPython-64bit-3.5.3.1Qt5\\python-3.5.3.amd64\\lib\\site-packages\\ipykernel\\__main__.py:4: VisibleDeprecationWarning: using a non-integer number instead of an integer will result in an error in the future\n",
      "D:\\Program Files\\WinPyth\\WinPython-64bit-3.5.3.1Qt5\\python-3.5.3.amd64\\lib\\site-packages\\ipykernel\\__main__.py:5: VisibleDeprecationWarning: using a non-integer number instead of an integer will result in an error in the future\n"
     ]
    }
   ],
   "source": [
    "data2=numpy.empty((measp,3))\n",
    "data2[0:y1dim[0],:]=aavso[:,:]\n",
    "data2[y1dim[0]:y1dim[0]+y1dim[1],:]=atlagolt[:,:]\n",
    "data2[y1dim[0]+y1dim[1]:y1dim[0]+y1dim[1]+y1dim[2],:]=hipp[:,:]\n",
    "data2[y1dim[0]+y1dim[1]+y1dim[2]:y1dim[0]+y1dim[1]+y1dim[2]+y1dim[3],:]=asas[:,:]"
   ]
  },
  {
   "cell_type": "code",
   "execution_count": 96,
   "metadata": {},
   "outputs": [
    {
     "data": {
      "text/plain": [
       "[<matplotlib.lines.Line2D at 0x2926492a748>]"
      ]
     },
     "execution_count": 96,
     "metadata": {},
     "output_type": "execute_result"
    },
    {
     "data": {
      "image/png": "[encoded data removed]",
      "text/plain": [
       "<matplotlib.figure.Figure at 0x29265155c18>"
      ]
     },
     "metadata": {},
     "output_type": "display_data"
    }
   ],
   "source": [
    "plot(data2[:,1],data2[:,2],'o')"
   ]
  },
  {
   "cell_type": "code",
   "execution_count": 100,
   "metadata": {
    "collapsed": true
   },
   "outputs": [],
   "source": [
    "atlagido=numpy.empty(1)\n",
    "atlagfen=numpy.empty(1)\n",
    "atlagjd=numpy.empty(1)\n",
    "stepr=40\n",
    "eps=min(aavso[:,1])-0.1\n",
    "gr=0\n",
    "while(eps<max(aavso[:,1]+stepr)):\n",
    "    jds=0\n",
    "    epochs=0\n",
    "    vals=0\n",
    "    nums=0\n",
    "    for i in range (0,int(ydim[0])):\n",
    "        if(eps+stepr>aavso[i,1] and aavso[i,1]>eps):\n",
    "            jds+=aavso[i,0]\n",
    "            epochs+=aavso[i,1]\n",
    "            vals+=aavso[i,2]\n",
    "            nums+=1\n",
    "    if(nums!=0 and gr==1):\n",
    "        atj=jds/nums\n",
    "        atli=epochs/nums\n",
    "        atlf=vals/nums\n",
    "        atlagjd=append(atlagjd,atj)\n",
    "        atlagido=append(atlagido,atli)\n",
    "        atlagfen=append(atlagfen,atlf)\n",
    "    if(nums!=0 and gr==0):\n",
    "        atlagjd=jds/nums\n",
    "        atlagido=epochs/nums\n",
    "        atlagfen=vals/nums\n",
    "        gr=1\n",
    "    eps+=stepr"
   ]
  },
  {
   "cell_type": "code",
   "execution_count": 101,
   "metadata": {},
   "outputs": [
    {
     "name": "stdout",
     "output_type": "stream",
     "text": [
      "[[  2.41193397e+06  -4.48466667e+03  -4.02163000e-01]\n",
      " [  2.41232125e+06  -4.44200000e+03  -7.82653000e-01]\n",
      " [  2.41264831e+06  -4.40600000e+03  -8.04686000e-01]\n",
      " [  2.41320275e+06  -4.34500000e+03  -5.91197500e-01]\n",
      " [  2.41337524e+06  -4.32600000e+03  -7.30430000e-01]\n",
      " [  2.41558923e+06  -4.08233333e+03  -6.25580667e-01]\n",
      " [  2.41704628e+06  -3.92200000e+03  -3.12866000e-01]\n",
      " [  2.41781827e+06  -3.83700000e+03  -6.06316000e-01]\n",
      " [  2.43459950e+06  -1.99000000e+03  -6.42323500e-01]\n",
      " [  2.43722057e+06  -1.70150000e+03  -7.92228500e-01]\n",
      " [  2.43792550e+06  -1.62400000e+03  -8.29500000e-03]\n",
      " [  2.43905764e+06  -1.49933333e+03  -5.47361667e-01]\n",
      " [  2.43939361e+06  -1.46237500e+03  -3.74381625e-01]\n",
      " [  2.44006877e+06  -1.38800000e+03  -9.61413000e-01]]\n"
     ]
    }
   ],
   "source": [
    "atlagolt2=vstack((atlagido,atlagfen))\n",
    "atlagolt2=vstack((atlagjd,atlagolt2)).T\n",
    "print(atlagolt2)"
   ]
  },
  {
   "cell_type": "code",
   "execution_count": 106,
   "metadata": {},
   "outputs": [
    {
     "name": "stdout",
     "output_type": "stream",
     "text": [
      "31\n"
     ]
    },
    {
     "name": "stderr",
     "output_type": "stream",
     "text": [
      "D:\\Program Files\\WinPyth\\WinPython-64bit-3.5.3.1Qt5\\python-3.5.3.amd64\\lib\\site-packages\\ipykernel\\__main__.py:9: VisibleDeprecationWarning: using a non-integer number instead of an integer will result in an error in the future\n",
      "D:\\Program Files\\WinPyth\\WinPython-64bit-3.5.3.1Qt5\\python-3.5.3.amd64\\lib\\site-packages\\ipykernel\\__main__.py:10: VisibleDeprecationWarning: using a non-integer number instead of an integer will result in an error in the future\n",
      "D:\\Program Files\\WinPyth\\WinPython-64bit-3.5.3.1Qt5\\python-3.5.3.amd64\\lib\\site-packages\\ipykernel\\__main__.py:11: VisibleDeprecationWarning: using a non-integer number instead of an integer will result in an error in the future\n",
      "D:\\Program Files\\WinPyth\\WinPython-64bit-3.5.3.1Qt5\\python-3.5.3.amd64\\lib\\site-packages\\ipykernel\\__main__.py:12: VisibleDeprecationWarning: using a non-integer number instead of an integer will result in an error in the future\n"
     ]
    }
   ],
   "source": [
    "y2dim=numpy.empty((4))\n",
    "y2dim[0]=int(atlagolt2.shape[0])\n",
    "y2dim[1]=int(atlagolt.shape[0])\n",
    "y2dim[2]=int(hipp.shape[0])\n",
    "y2dim[3]=int(asas.shape[0])\n",
    "measp=int(sum(y2dim))\n",
    "print(measp)\n",
    "data3=numpy.empty((measp,3))\n",
    "data3[0:y2dim[0],:]=atlagolt2[:,:]\n",
    "data3[y2dim[0]:y2dim[0]+y2dim[1],:]=atlagolt[:,:]\n",
    "data3[y2dim[0]+y2dim[1]:y2dim[0]+y2dim[1]+y2dim[2],:]=hipp[:,:]\n",
    "data3[y2dim[0]+y2dim[1]+y2dim[2]:y2dim[0]+y2dim[1]+y2dim[2]+y2dim[3],:]=asas[:,:]"
   ]
  },
  {
   "cell_type": "code",
   "execution_count": 123,
   "metadata": {
    "collapsed": true
   },
   "outputs": [],
   "source": [
    "with open ('./Period/Kap_Pav/OC_kappav_osszeatlagolt.dat', 'a') as filee:\n",
    "    for i in range (0,measp):\n",
    "        for item in data[i,:]:\n",
    "            filee.write(\"%f \\t\" % item)\n",
    "        filee.write(\"\\n\")\n",
    "    filee.close"
   ]
  },
  {
   "cell_type": "code",
   "execution_count": 107,
   "metadata": {},
   "outputs": [
    {
     "data": {
      "text/plain": [
       "[<matplotlib.lines.Line2D at 0x2926677b518>]"
      ]
     },
     "execution_count": 107,
     "metadata": {},
     "output_type": "execute_result"
    },
    {
     "data": {
      "image/png": "[encoded data removed]",
      "text/plain": [
       "<matplotlib.figure.Figure at 0x29264eca0f0>"
      ]
     },
     "metadata": {},
     "output_type": "display_data"
    }
   ],
   "source": [
    "plot(data3[:,1],data3[:,2],'o')"
   ]
  },
  {
   "cell_type": "code",
   "execution_count": 108,
   "metadata": {},
   "outputs": [
    {
     "name": "stdout",
     "output_type": "stream",
     "text": [
      "[  1.92400527e-07   1.14406654e-03   7.63613787e-01]\n"
     ]
    }
   ],
   "source": [
    "z1=polyfit(data3[:,1],data3[:,2],2)\n",
    "print(z1)"
   ]
  },
  {
   "cell_type": "code",
   "execution_count": 122,
   "metadata": {},
   "outputs": [
    {
     "data": {
      "image/png": "[encoded data removed]",
      "text/plain": [
       "<matplotlib.figure.Figure at 0x29268eb1908>"
      ]
     },
     "metadata": {},
     "output_type": "display_data"
    }
   ],
   "source": [
    "plot(data3[:,1],data3[:,2],'o',ms=2,label='Averaged data')\n",
    "plot(tt,polyval(z1,tt),color='salmon',label='Fitted parabole')\n",
    "plt.legend()\n",
    "grid(True)\n",
    "plt.legend(loc=2)\n",
    "xlabel('Epoch')\n",
    "ylabel('O-C [days]')\n",
    "ylim(-3,4)\n",
    "xlim(-5000,600)\n",
    "plt.text(-3800, 3.45, '$p_{\\mathrm{fitted}}(x)=1.924\\cdot 10^{-7} x^2 + 1.144\\cdot 10^{-3} x + 0.764$',\n",
    "        #verticalalignment='bottom', horizontalalignment='right',\n",
    "        color='black', fontsize=12)\n",
    "savefig('./Period/Kap_Pav/Kap_Pav_O-C_atlagolt_ill.png', bbox_inches='tight')"
   ]
  },
  {
   "cell_type": "code",
   "execution_count": null,
   "metadata": {
    "collapsed": true
   },
   "outputs": [],
   "source": []
  }
 ],
 "metadata": {
  "kernelspec": {
   "display_name": "Python 3",
   "language": "python",
   "name": "python3"
  },
  "language_info": {
   "codemirror_mode": {
    "name": "ipython",
    "version": 3
   },
   "file_extension": ".py",
   "mimetype": "text/x-python",
   "name": "python",
   "nbconvert_exporter": "python",
   "pygments_lexer": "ipython3",
   "version": "3.5.3"
  }
 },
 "nbformat": 4,
 "nbformat_minor": 2
}
